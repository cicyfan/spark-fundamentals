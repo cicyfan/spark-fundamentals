{
  "nbformat": 4,
  "nbformat_minor": 0,
  "metadata": {
    "kernelspec": {
      "display_name": "Python 3",
      "language": "python",
      "name": "python3"
    },
    "language_info": {
      "codemirror_mode": {
        "name": "ipython",
        "version": 3
      },
      "file_extension": ".py",
      "mimetype": "text/x-python",
      "name": "python",
      "nbconvert_exporter": "python",
      "pygments_lexer": "ipython3",
      "version": "3.7.3"
    },
    "colab": {
      "name": "spark-exericises.ipynb",
      "provenance": [],
      "toc_visible": true,
      "include_colab_link": true
    }
  },
  "cells": [
    {
      "cell_type": "markdown",
      "metadata": {
        "id": "view-in-github",
        "colab_type": "text"
      },
      "source": [
        "<a href=\"https://colab.research.google.com/github/cicyfan/spark-fundamentals/blob/master/spark_exericises.ipynb\" target=\"_parent\"><img src=\"https://colab.research.google.com/assets/colab-badge.svg\" alt=\"Open In Colab\"/></a>"
      ]
    },
    {
      "cell_type": "markdown",
      "metadata": {
        "id": "Pt0SUsmB8EQB",
        "colab_type": "text"
      },
      "source": [
        "Spark Exercises"
      ]
    },
    {
      "cell_type": "markdown",
      "metadata": {
        "id": "G5V3W56p8EQG",
        "colab_type": "text"
      },
      "source": [
        "## Initiate "
      ]
    },
    {
      "cell_type": "code",
      "metadata": {
        "id": "UIZ59j7788Ho",
        "colab_type": "code",
        "colab": {}
      },
      "source": [
        "!apt-get install openjdk-8-jdk-headless -qq > /dev/null\n",
        "!wget -q https://www-us.apache.org/dist/spark/spark-2.4.6/spark-2.4.6-bin-hadoop2.7.tgz\n",
        "!tar xf spark-2.4.6-bin-hadoop2.7.tgz\n",
        "!pip install -q findspark\n",
        "\n",
        "import os\n",
        "os.environ[\"JAVA_HOME\"] = \"/usr/lib/jvm/java-8-openjdk-amd64\"\n",
        "os.environ[\"SPARK_HOME\"] = \"/content/spark-2.4.6-bin-hadoop2.7\""
      ],
      "execution_count": 10,
      "outputs": []
    },
    {
      "cell_type": "code",
      "metadata": {
        "id": "3LWkt0Xo8EQJ",
        "colab_type": "code",
        "colab": {
          "base_uri": "https://localhost:8080/",
          "height": 381
        },
        "outputId": "e4d00990-2807-4c0d-f7e5-bb84afbc29c4"
      },
      "source": [
        "import findspark\n",
        "from pyspark.sql import SparkSession\n",
        "\n",
        "findspark.init()\n",
        "\n",
        "spark = SparkSession\\\n",
        "        .builder\\\n",
        "        .appName(\"HW2_cf1311\")\\\n",
        "        .getOrCreate()\n",
        "\n",
        "sc = spark.sparkContext\n",
        "sc\n"
      ],
      "execution_count": 9,
      "outputs": [
        {
          "output_type": "error",
          "ename": "ModuleNotFoundError",
          "evalue": "ignored",
          "traceback": [
            "\u001b[0;31m---------------------------------------------------------------------------\u001b[0m",
            "\u001b[0;31mModuleNotFoundError\u001b[0m                       Traceback (most recent call last)",
            "\u001b[0;32m<ipython-input-9-4f0847c17f0d>\u001b[0m in \u001b[0;36m<module>\u001b[0;34m()\u001b[0m\n\u001b[1;32m      1\u001b[0m \u001b[0;32mimport\u001b[0m \u001b[0mfindspark\u001b[0m\u001b[0;34m\u001b[0m\u001b[0;34m\u001b[0m\u001b[0m\n\u001b[0;32m----> 2\u001b[0;31m \u001b[0;32mfrom\u001b[0m \u001b[0mpyspark\u001b[0m\u001b[0;34m.\u001b[0m\u001b[0msql\u001b[0m \u001b[0;32mimport\u001b[0m \u001b[0mSparkSession\u001b[0m\u001b[0;34m\u001b[0m\u001b[0;34m\u001b[0m\u001b[0m\n\u001b[0m\u001b[1;32m      3\u001b[0m \u001b[0;34m\u001b[0m\u001b[0m\n\u001b[1;32m      4\u001b[0m \u001b[0mfindspark\u001b[0m\u001b[0;34m.\u001b[0m\u001b[0minit\u001b[0m\u001b[0;34m(\u001b[0m\u001b[0;34m)\u001b[0m\u001b[0;34m\u001b[0m\u001b[0;34m\u001b[0m\u001b[0m\n\u001b[1;32m      5\u001b[0m \u001b[0;34m\u001b[0m\u001b[0m\n",
            "\u001b[0;31mModuleNotFoundError\u001b[0m: No module named 'pyspark'",
            "",
            "\u001b[0;31m---------------------------------------------------------------------------\u001b[0;32m\nNOTE: If your import is failing due to a missing package, you can\nmanually install dependencies using either !pip or !apt.\n\nTo view examples of installing some common dependencies, click the\n\"Open Examples\" button below.\n\u001b[0;31m---------------------------------------------------------------------------\u001b[0m\n"
          ]
        }
      ]
    },
    {
      "cell_type": "code",
      "metadata": {
        "id": "7WA_Zrvx8WHb",
        "colab_type": "code",
        "colab": {
          "base_uri": "https://localhost:8080/",
          "height": 35
        },
        "outputId": "d7f965ff-8d4b-4e88-d166-140012d3ef58"
      },
      "source": [
        "from google.colab import drive\n",
        "drive.mount('/content/drive')"
      ],
      "execution_count": 7,
      "outputs": [
        {
          "output_type": "stream",
          "text": [
            "Drive already mounted at /content/drive; to attempt to forcibly remount, call drive.mount(\"/content/drive\", force_remount=True).\n"
          ],
          "name": "stdout"
        }
      ]
    },
    {
      "cell_type": "markdown",
      "metadata": {
        "id": "JTLD78ZT8EQf",
        "colab_type": "text"
      },
      "source": [
        "## Question 1 - BreadBasket_DMS.csv\n"
      ]
    },
    {
      "cell_type": "code",
      "metadata": {
        "scrolled": true,
        "id": "9P-m3VHP8EQi",
        "colab_type": "code",
        "colab": {
          "base_uri": "https://localhost:8080/",
          "height": 381
        },
        "outputId": "0066e888-2573-4e7e-df3b-da832e39c5fc"
      },
      "source": [
        "#solution 1 with DF operations\n",
        "\n",
        "from pyspark.sql.types import StructType, StructField, StringType, IntegerType\n",
        "from pyspark.sql.functions import substring_index, to_date, asc, desc\n",
        "\n",
        "df = spark.read \\\n",
        "    .format(\"csv\") \\\n",
        "    .option(\"header\", \"true\") \\\n",
        "    .option(\"inferSchema\",\"/content/drive/My Drive/data/BreadBasket_DMS.csv\")\n",
        "\n",
        "#filter empty items\n",
        "df1 = df.filter(df[\"item\"] != \"NONE\")\n",
        "\n",
        "#create new df with formatted data and rename columns\n",
        "df2 = df1.select(\"item\", \\\n",
        "                #format date timestamp to exclude time\n",
        "                to_date(df[\"date\"], 'yyyy-mm-dd'), \\\n",
        "                #extract hour from timestamp\n",
        "                substring_index(df[\"time\"], \":\", 1).alias(\"hour\")) \\\n",
        "         .toDF(\"item\", \"date\", \"hour\")\n",
        "\n",
        "#df operations to order, group, and count               \n",
        "df3 = df2.orderBy(\"item\", \"date\", \"hour\") \\\n",
        "         .groupBy(\"item\", \"date\", \"hour\") \\\n",
        "         .count() \n",
        "\n",
        "df3.show()\n"
      ],
      "execution_count": 8,
      "outputs": [
        {
          "output_type": "error",
          "ename": "ModuleNotFoundError",
          "evalue": "ignored",
          "traceback": [
            "\u001b[0;31m---------------------------------------------------------------------------\u001b[0m",
            "\u001b[0;31mModuleNotFoundError\u001b[0m                       Traceback (most recent call last)",
            "\u001b[0;32m<ipython-input-8-de1139975dc6>\u001b[0m in \u001b[0;36m<module>\u001b[0;34m()\u001b[0m\n\u001b[1;32m      1\u001b[0m \u001b[0;31m#solution 1 with DF operations\u001b[0m\u001b[0;34m\u001b[0m\u001b[0;34m\u001b[0m\u001b[0;34m\u001b[0m\u001b[0m\n\u001b[1;32m      2\u001b[0m \u001b[0;34m\u001b[0m\u001b[0m\n\u001b[0;32m----> 3\u001b[0;31m \u001b[0;32mfrom\u001b[0m \u001b[0mpyspark\u001b[0m\u001b[0;34m.\u001b[0m\u001b[0msql\u001b[0m\u001b[0;34m.\u001b[0m\u001b[0mtypes\u001b[0m \u001b[0;32mimport\u001b[0m \u001b[0mStructType\u001b[0m\u001b[0;34m,\u001b[0m \u001b[0mStructField\u001b[0m\u001b[0;34m,\u001b[0m \u001b[0mStringType\u001b[0m\u001b[0;34m,\u001b[0m \u001b[0mIntegerType\u001b[0m\u001b[0;34m\u001b[0m\u001b[0;34m\u001b[0m\u001b[0m\n\u001b[0m\u001b[1;32m      4\u001b[0m \u001b[0;32mfrom\u001b[0m \u001b[0mpyspark\u001b[0m\u001b[0;34m.\u001b[0m\u001b[0msql\u001b[0m\u001b[0;34m.\u001b[0m\u001b[0mfunctions\u001b[0m \u001b[0;32mimport\u001b[0m \u001b[0msubstring_index\u001b[0m\u001b[0;34m,\u001b[0m \u001b[0mto_date\u001b[0m\u001b[0;34m,\u001b[0m \u001b[0masc\u001b[0m\u001b[0;34m,\u001b[0m \u001b[0mdesc\u001b[0m\u001b[0;34m\u001b[0m\u001b[0;34m\u001b[0m\u001b[0m\n\u001b[1;32m      5\u001b[0m \u001b[0;34m\u001b[0m\u001b[0m\n",
            "\u001b[0;31mModuleNotFoundError\u001b[0m: No module named 'pyspark'",
            "",
            "\u001b[0;31m---------------------------------------------------------------------------\u001b[0;32m\nNOTE: If your import is failing due to a missing package, you can\nmanually install dependencies using either !pip or !apt.\n\nTo view examples of installing some common dependencies, click the\n\"Open Examples\" button below.\n\u001b[0;31m---------------------------------------------------------------------------\u001b[0m\n"
          ]
        }
      ]
    },
    {
      "cell_type": "code",
      "metadata": {
        "id": "8qOQzX5s8EQw",
        "colab_type": "code",
        "colab": {}
      },
      "source": [
        "# solution 2 using SQL\n",
        "\n",
        "df2.registerTempTable(\"bakery\")\n",
        "df4 = spark.sql(\"SELECT item, date, hour, count(*) as count \" +\n",
        "                       \"FROM bakery \" +\n",
        "                       \"GROUP BY item, date, hour \" +\n",
        "                       \"ORDER BY item, date, hour \" \n",
        "               )\n",
        "\n",
        "\n",
        "df4.show()"
      ],
      "execution_count": null,
      "outputs": []
    },
    {
      "cell_type": "markdown",
      "metadata": {
        "id": "6QanEUNv8EQ8",
        "colab_type": "text"
      },
      "source": [
        "## Question 2 - Restaurants_in_Durham_County_NC.json"
      ]
    },
    {
      "cell_type": "code",
      "metadata": {
        "scrolled": true,
        "id": "dRufrEV08EQ-",
        "colab_type": "code",
        "colab": {}
      },
      "source": [
        "df = spark.read.json(\"/content/drive/My Drive/data/Restaurants_in_Durham_County_NC.json\")\n",
        "\n",
        "df1 = df.select(\"fields.rpt_area_desc\")\\\n",
        "        .orderBy(\"rpt_area_desc\")\\\n",
        "        .groupBy(\"rpt_area_desc\")\\\n",
        "        .count()\\\n",
        "        .orderBy(desc('count'))\n",
        "\n",
        "df1.show()\n"
      ],
      "execution_count": null,
      "outputs": []
    },
    {
      "cell_type": "markdown",
      "metadata": {
        "id": "zGy6N-Nb8ERP",
        "colab_type": "text"
      },
      "source": [
        "# Question 3 - populationbycountry19802010millions.csv"
      ]
    },
    {
      "cell_type": "code",
      "metadata": {
        "scrolled": false,
        "id": "jTiWCLq_8ERS",
        "colab_type": "code",
        "colab": {}
      },
      "source": [
        "from pyspark.sql.types import StructType\n",
        "from pyspark.sql.functions import col, asc, desc, lit\n",
        "\n",
        "df = spark.read \\\n",
        "    .format(\"csv\") \\\n",
        "    .option(\"header\", \"true\") \\\n",
        "    .option(\"inferSchema\",\"true\") \\\n",
        "    .load(\"/content/drive/My Drive/data/populationbycountry19802010millions.csv\")\n",
        "\n",
        "#cast all columns with numbers to float\n",
        "cols = df.schema.names\n",
        "for col_name in cols:\n",
        "    if col_name != '_c0':\n",
        "        df = df.withColumn(col_name, col(col_name).cast('float'))\n",
        "\n",
        "#set iterative variables\n",
        "length = len(cols)-2\n",
        "begin = 1981\n",
        "end = 1981+length\n",
        "\n",
        "#iterate through columns to extract max percent each year and print them\n",
        "for x in range(begin, end):\n",
        "    col1 = col(str(x-1))\n",
        "    col2 = col(str(x))\n",
        "    \n",
        "    df1 = df.withColumn(\"percent\", ((col2-col1)/col1) * 100)\\\n",
        "            .withColumn(\"year\", lit(x))\\\n",
        "            .orderBy(desc(\"percent\")).limit(1)\\\n",
        "            .select(\"year\", df[\"_c0\"].alias(\"country\"), \"percent\" )\n",
        "   \n",
        "    df1.show()"
      ],
      "execution_count": null,
      "outputs": []
    },
    {
      "cell_type": "markdown",
      "metadata": {
        "id": "i3JAS8Qx8ERf",
        "colab_type": "text"
      },
      "source": [
        "# Question 4 - wordCount romeo-juliet-pg1777.txt"
      ]
    },
    {
      "cell_type": "code",
      "metadata": {
        "id": "nnPu8ED98ERh",
        "colab_type": "code",
        "colab": {}
      },
      "source": [
        "#solution 1, use flatmap and map then DF operations to aggregate, sort, count, and display the results\n",
        "\n",
        "import re\n",
        "from pyspark.sql.functions import asc, desc\n",
        "\n",
        "#read text file\n",
        "text = sc.textFile(\"/content/drive/My Drive/data/romeo-juliet-pg1777.txt\")\n",
        "\n",
        "#1) use regex to replace all unacceptable symbols\n",
        "#2) split words\n",
        "#3) assign key value pairs where key is word and value is 1\n",
        "counts = text.map(lambda lines: re.sub('[^0-9a-zA-Z]', ' ', lines.lower()))\\\n",
        "             .flatMap(lambda word: word.split())\\\n",
        "             .map(lambda word: (word, 1))\\\n",
        "\n",
        "df = counts.toDF()\\\n",
        "           .toDF('word', 'count')\\\n",
        "           .groupBy('word')\\\n",
        "           .count()\\\n",
        "           .orderBy(desc(\"count\"))\n",
        "\n",
        "df.show()\n"
      ],
      "execution_count": null,
      "outputs": []
    },
    {
      "cell_type": "code",
      "metadata": {
        "scrolled": false,
        "id": "Klp8cegg8ERx",
        "colab_type": "code",
        "colab": {}
      },
      "source": [
        "#solution 2, instead of DF operations, use reduceByKey then print output\n",
        "\n",
        "counts1 = counts.reduceByKey(lambda word, word1: word + word1) \\\n",
        "#collect everything in an array\n",
        "output = counts1.collect()\n",
        "#print(output)\n",
        "for (word, count) in output: print(\"%s: %i\" % (word, count))\n"
      ],
      "execution_count": null,
      "outputs": []
    },
    {
      "cell_type": "markdown",
      "metadata": {
        "id": "2as4VoZ78ER9",
        "colab_type": "text"
      },
      "source": [
        "# Question 5 - Bonus\n"
      ]
    },
    {
      "cell_type": "code",
      "metadata": {
        "id": "3hqK2UHk8ESA",
        "colab_type": "code",
        "colab": {}
      },
      "source": [
        "from pyspark.sql.types import BooleanType\n",
        "from pyspark.sql.functions import col, sqrt, abs, desc, asc\n",
        "\n",
        "#process foreclosure data\n",
        "fc = spark.read.json(\"/mnt/c/users/cicyf/data/durham-nc-foreclosure-2006-2016.json\")\n",
        "fc1 = fc.select(\"recordid\", \"fields.geocode\") \n",
        "fc2 = fc1.select(\"recordid\",\\\n",
        "                 fc1[\"geocode\"].getItem(0).alias(\"lat\"),\\\n",
        "                 fc1[\"geocode\"].getItem(1).alias(\"long\"))\n",
        "\n",
        "#process restaurant data\n",
        "rest = spark.read.json(\"/mnt/c/users/cicyf/data/Restaurants_in_Durham_County_NC.json\")\n",
        "rest1 = rest.select(\"recordid\", \"fields.status\", \"fields.rpt_area_desc\", \"fields.geolocation\", \"geometry.coordinates\")\n",
        "rest2 = rest1.filter(rest1['status'] == \"ACTIVE\")\\\n",
        "             .filter(rest1['rpt_area_desc'] == 'Food Service')\n",
        "rest3 = rest2.select(\"recordid\",\\\n",
        "                     rest2[\"geolocation\"].getItem(0).alias(\"lat\"),\\\n",
        "                     rest2[\"geolocation\"].getItem(1).alias(\"long\"))\n",
        "\n",
        "#distance formula given in class\n",
        "r = 0.017\n",
        "def insideCircle(x1, y1, x2, y2, r):\n",
        "    return (sqrt((abs(x2-x1)**2) + (abs(y2-y1)**2)) <= r )\n",
        "\n",
        "spark.udf.register(\"inCirc\", insideCircle, BooleanType())\n",
        "\n",
        "#cross join\n",
        "df = rest3.crossJoin(fc2).toDF(\"restID\", \"lat1\", \"long1\", \"foreID\", \"lat2\", \"long2\")\n",
        "\n",
        "df1 = df.withColumn(\"closure\", insideCircle(df.lat1, df.long1, df.lat2, df.long2, r))\n",
        "df2 = df1.filter(df1.closure == 1 )\\\n",
        "         .groupBy('restID')\\\n",
        "         .count()\\\n",
        "         .orderBy(desc('count'))\n",
        "\n",
        "df2.show()\n"
      ],
      "execution_count": null,
      "outputs": []
    },
    {
      "cell_type": "code",
      "metadata": {
        "id": "4EGe877z8ESR",
        "colab_type": "code",
        "colab": {}
      },
      "source": [
        ""
      ],
      "execution_count": null,
      "outputs": []
    }
  ]
}