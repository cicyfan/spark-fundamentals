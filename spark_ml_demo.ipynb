{
  "nbformat": 4,
  "nbformat_minor": 0,
  "metadata": {
    "kernelspec": {
      "display_name": "Python 3",
      "language": "python",
      "name": "python3"
    },
    "language_info": {
      "codemirror_mode": {
        "name": "ipython",
        "version": 3
      },
      "file_extension": ".py",
      "mimetype": "text/x-python",
      "name": "python",
      "nbconvert_exporter": "python",
      "pygments_lexer": "ipython3",
      "version": "3.7.4"
    },
    "toc": {
      "base_numbering": 1,
      "nav_menu": {},
      "number_sections": true,
      "sideBar": true,
      "skip_h1_title": false,
      "title_cell": "Table of Contents",
      "title_sidebar": "Contents",
      "toc_cell": false,
      "toc_position": {},
      "toc_section_display": true,
      "toc_window_display": false
    },
    "varInspector": {
      "cols": {
        "lenName": 16,
        "lenType": 16,
        "lenVar": 40
      },
      "kernels_config": {
        "python": {
          "delete_cmd_postfix": "",
          "delete_cmd_prefix": "del ",
          "library": "var_list.py",
          "varRefreshCmd": "print(var_dic_list())"
        },
        "r": {
          "delete_cmd_postfix": ") ",
          "delete_cmd_prefix": "rm(",
          "library": "var_list.r",
          "varRefreshCmd": "cat(var_dic_list()) "
        }
      },
      "types_to_exclude": [
        "module",
        "function",
        "builtin_function_or_method",
        "instance",
        "_Feature"
      ],
      "window_display": false
    },
    "colab": {
      "name": "spark-ml-demo.ipynb",
      "provenance": [],
      "include_colab_link": true
    }
  },
  "cells": [
    {
      "cell_type": "markdown",
      "metadata": {
        "id": "view-in-github",
        "colab_type": "text"
      },
      "source": [
        "<a href=\"https://colab.research.google.com/github/cicyfan/spark-fundamentals/blob/master/spark_ml_demo.ipynb\" target=\"_parent\"><img src=\"https://colab.research.google.com/assets/colab-badge.svg\" alt=\"Open In Colab\"/></a>"
      ]
    },
    {
      "cell_type": "markdown",
      "metadata": {
        "id": "9A5mFaVHuQre",
        "colab_type": "text"
      },
      "source": [
        "# Spark ML\n",
        "\n",
        "![image.png](attachment:image.png)"
      ]
    },
    {
      "cell_type": "code",
      "metadata": {
        "id": "cuUQ0rBcyORB",
        "colab_type": "code",
        "colab": {}
      },
      "source": [
        "# Uncomment below to install and setup spark\n",
        "\n",
        "# !apt-get install openjdk-8-jdk-headless -qq > /dev/null\n",
        "# !wget -q https://www-us.apache.org/dist/spark/spark-2.4.6/spark-2.4.6-bin-hadoop2.7.tgz\n",
        "# !tar xf spark-2.4.6-bin-hadoop2.7.tgz\n",
        "# !pip install -q findspark\n",
        "\n",
        "# import os\n",
        "# os.environ[\"JAVA_HOME\"] = \"/usr/lib/jvm/java-8-openjdk-amd64\"\n",
        "# os.environ[\"SPARK_HOME\"] = \"/content/spark-2.4.6-bin-hadoop2.7\""
      ],
      "execution_count": 50,
      "outputs": []
    },
    {
      "cell_type": "code",
      "metadata": {
        "id": "aoa5qd7SuW2i",
        "colab_type": "code",
        "colab": {
          "base_uri": "https://localhost:8080/",
          "height": 35
        },
        "outputId": "36206838-da5d-4581-dd62-5df1f4ca39d8"
      },
      "source": [
        "from google.colab import drive\n",
        "drive.mount('/content/drive')"
      ],
      "execution_count": 13,
      "outputs": [
        {
          "output_type": "stream",
          "text": [
            "Drive already mounted at /content/drive; to attempt to forcibly remount, call drive.mount(\"/content/drive\", force_remount=True).\n"
          ],
          "name": "stdout"
        }
      ]
    },
    {
      "cell_type": "markdown",
      "metadata": {
        "id": "gMkaiTE3uQrh",
        "colab_type": "text"
      },
      "source": [
        "### Initialize Spark"
      ]
    },
    {
      "cell_type": "code",
      "metadata": {
        "ExecuteTime": {
          "end_time": "2020-07-06T15:12:07.022654Z",
          "start_time": "2020-07-06T15:12:06.886024Z"
        },
        "id": "RcIHsRfiuQri",
        "colab_type": "code",
        "colab": {
          "base_uri": "https://localhost:8080/",
          "height": 218
        },
        "outputId": "231ef113-2b28-4b1e-be2e-ceb3ff4398b1"
      },
      "source": [
        "# let's find where spark is installed\n",
        "import findspark\n",
        "findspark.init()\n",
        "\n",
        "# intialize\n",
        "from pyspark import SparkConf, SparkContext\n",
        "from pyspark.sql import SparkSession\n",
        "\n",
        "spark = SparkSession\\\n",
        "        .builder\\\n",
        "        .getOrCreate()\n",
        "        #.appName(\"ML\")\\\n",
        "        #.getOrCreate()\n",
        "\n",
        "spark"
      ],
      "execution_count": 20,
      "outputs": [
        {
          "output_type": "execute_result",
          "data": {
            "text/html": [
              "\n",
              "            <div>\n",
              "                <p><b>SparkSession - in-memory</b></p>\n",
              "                \n",
              "        <div>\n",
              "            <p><b>SparkContext</b></p>\n",
              "\n",
              "            <p><a href=\"http://e107e2546f2d:4040\">Spark UI</a></p>\n",
              "\n",
              "            <dl>\n",
              "              <dt>Version</dt>\n",
              "                <dd><code>v2.4.6</code></dd>\n",
              "              <dt>Master</dt>\n",
              "                <dd><code>local[*]</code></dd>\n",
              "              <dt>AppName</dt>\n",
              "                <dd><code>pyspark-shell</code></dd>\n",
              "            </dl>\n",
              "        </div>\n",
              "        \n",
              "            </div>\n",
              "        "
            ],
            "text/plain": [
              "<pyspark.sql.session.SparkSession at 0x7fdc725fdcf8>"
            ]
          },
          "metadata": {
            "tags": []
          },
          "execution_count": 20
        }
      ]
    },
    {
      "cell_type": "markdown",
      "metadata": {
        "id": "AfBfNn-wuQrv",
        "colab_type": "text"
      },
      "source": [
        "#### Import the packages we need"
      ]
    },
    {
      "cell_type": "code",
      "metadata": {
        "ExecuteTime": {
          "end_time": "2020-07-06T15:11:07.885985Z",
          "start_time": "2020-07-06T15:11:07.882024Z"
        },
        "id": "WoAIhVYyuQrw",
        "colab_type": "code",
        "colab": {}
      },
      "source": [
        "# spark types\n",
        "from pyspark.sql.types import StructType, StructField, IntegerType, StringType, DoubleType, LongType, NumericType\n",
        "\n",
        "# spark ML packages\n",
        "from pyspark.ml.classification import LogisticRegression\n",
        "from pyspark.ml.feature import OneHotEncoderEstimator, StringIndexer, VectorAssembler\n",
        "from pyspark.ml import Pipeline\n"
      ],
      "execution_count": 21,
      "outputs": []
    },
    {
      "cell_type": "markdown",
      "metadata": {
        "id": "Iq2k9UX7uQr2",
        "colab_type": "text"
      },
      "source": [
        "#### Define the schema for our dataset"
      ]
    },
    {
      "cell_type": "code",
      "metadata": {
        "ExecuteTime": {
          "end_time": "2020-07-06T15:11:07.973750Z",
          "start_time": "2020-07-06T15:11:07.965797Z"
        },
        "id": "08aVT3u_uQsF",
        "colab_type": "code",
        "colab": {}
      },
      "source": [
        "schema = StructType([\n",
        "    StructField(\"age\", IntegerType(), True),\n",
        "    StructField(\"workclass\", StringType(), True),\n",
        "    StructField(\"fnlwgt\", IntegerType(), True),\n",
        "    StructField(\"education\", StringType(), True),\n",
        "    StructField(\"education-num\", IntegerType(), True),\n",
        "    StructField(\"marital-status\", StringType(), True),\n",
        "    StructField(\"occupation\", StringType(), True),\n",
        "    StructField(\"relationship\", StringType(), True),\n",
        "    StructField(\"race\", StringType(), True),\n",
        "    StructField(\"sex\", StringType(), True),\n",
        "    StructField(\"capital-gain\", IntegerType(), True),\n",
        "    StructField(\"capital-loss\", IntegerType(), True),\n",
        "    StructField(\"hours-per-week\", IntegerType(), True),\n",
        "    StructField(\"native-country\", StringType(), True),\n",
        "    StructField(\"salary\", StringType(), True)\n",
        "])\n",
        "\n"
      ],
      "execution_count": 22,
      "outputs": []
    },
    {
      "cell_type": "code",
      "metadata": {
        "ExecuteTime": {
          "end_time": "2020-07-06T15:11:42.498690Z",
          "start_time": "2020-07-06T15:11:42.484694Z"
        },
        "id": "2trxEZFJuQsO",
        "colab_type": "code",
        "colab": {}
      },
      "source": [
        "# load our data into a train set and a test set\n",
        "train_df = spark.read.csv('/content/drive/My Drive/data/adult.data.txt', header=False, schema=schema)\n",
        "test_df = spark.read.csv('/content/drive/My Drive/data/adult.text.txt', header=False, schema=schema)\n"
      ],
      "execution_count": 23,
      "outputs": []
    },
    {
      "cell_type": "code",
      "metadata": {
        "ExecuteTime": {
          "end_time": "2020-07-06T15:11:07.989705Z",
          "start_time": "2020-07-06T15:11:07.974Z"
        },
        "id": "n2QitHmauQsW",
        "colab_type": "code",
        "colab": {
          "base_uri": "https://localhost:8080/",
          "height": 211
        },
        "outputId": "5ba1bd3e-b451-49e8-e8fd-c9deca4e2c85"
      },
      "source": [
        "# pretty print some rows\n",
        "from pyspark.sql.functions import lit, col, asc, desc\n",
        "\n",
        "train_df.orderBy(asc(\"age\")).limit(5).toPandas()\n"
      ],
      "execution_count": 24,
      "outputs": [
        {
          "output_type": "execute_result",
          "data": {
            "text/html": [
              "<div>\n",
              "<style scoped>\n",
              "    .dataframe tbody tr th:only-of-type {\n",
              "        vertical-align: middle;\n",
              "    }\n",
              "\n",
              "    .dataframe tbody tr th {\n",
              "        vertical-align: top;\n",
              "    }\n",
              "\n",
              "    .dataframe thead th {\n",
              "        text-align: right;\n",
              "    }\n",
              "</style>\n",
              "<table border=\"1\" class=\"dataframe\">\n",
              "  <thead>\n",
              "    <tr style=\"text-align: right;\">\n",
              "      <th></th>\n",
              "      <th>age</th>\n",
              "      <th>workclass</th>\n",
              "      <th>fnlwgt</th>\n",
              "      <th>education</th>\n",
              "      <th>education-num</th>\n",
              "      <th>marital-status</th>\n",
              "      <th>occupation</th>\n",
              "      <th>relationship</th>\n",
              "      <th>race</th>\n",
              "      <th>sex</th>\n",
              "      <th>capital-gain</th>\n",
              "      <th>capital-loss</th>\n",
              "      <th>hours-per-week</th>\n",
              "      <th>native-country</th>\n",
              "      <th>salary</th>\n",
              "    </tr>\n",
              "  </thead>\n",
              "  <tbody>\n",
              "    <tr>\n",
              "      <th>0</th>\n",
              "      <td>None</td>\n",
              "      <td>None</td>\n",
              "      <td>None</td>\n",
              "      <td>None</td>\n",
              "      <td>None</td>\n",
              "      <td>None</td>\n",
              "      <td>None</td>\n",
              "      <td>None</td>\n",
              "      <td>None</td>\n",
              "      <td>None</td>\n",
              "      <td>None</td>\n",
              "      <td>None</td>\n",
              "      <td>None</td>\n",
              "      <td>None</td>\n",
              "      <td>None</td>\n",
              "    </tr>\n",
              "    <tr>\n",
              "      <th>1</th>\n",
              "      <td>None</td>\n",
              "      <td>None</td>\n",
              "      <td>None</td>\n",
              "      <td>None</td>\n",
              "      <td>None</td>\n",
              "      <td>None</td>\n",
              "      <td>None</td>\n",
              "      <td>None</td>\n",
              "      <td>None</td>\n",
              "      <td>None</td>\n",
              "      <td>None</td>\n",
              "      <td>None</td>\n",
              "      <td>None</td>\n",
              "      <td>None</td>\n",
              "      <td>None</td>\n",
              "    </tr>\n",
              "    <tr>\n",
              "      <th>2</th>\n",
              "      <td>None</td>\n",
              "      <td>None</td>\n",
              "      <td>None</td>\n",
              "      <td>None</td>\n",
              "      <td>None</td>\n",
              "      <td>None</td>\n",
              "      <td>None</td>\n",
              "      <td>None</td>\n",
              "      <td>None</td>\n",
              "      <td>None</td>\n",
              "      <td>None</td>\n",
              "      <td>None</td>\n",
              "      <td>None</td>\n",
              "      <td>None</td>\n",
              "      <td>None</td>\n",
              "    </tr>\n",
              "    <tr>\n",
              "      <th>3</th>\n",
              "      <td>None</td>\n",
              "      <td>None</td>\n",
              "      <td>None</td>\n",
              "      <td>None</td>\n",
              "      <td>None</td>\n",
              "      <td>None</td>\n",
              "      <td>None</td>\n",
              "      <td>None</td>\n",
              "      <td>None</td>\n",
              "      <td>None</td>\n",
              "      <td>None</td>\n",
              "      <td>None</td>\n",
              "      <td>None</td>\n",
              "      <td>None</td>\n",
              "      <td>None</td>\n",
              "    </tr>\n",
              "    <tr>\n",
              "      <th>4</th>\n",
              "      <td>None</td>\n",
              "      <td>None</td>\n",
              "      <td>None</td>\n",
              "      <td>None</td>\n",
              "      <td>None</td>\n",
              "      <td>None</td>\n",
              "      <td>None</td>\n",
              "      <td>None</td>\n",
              "      <td>None</td>\n",
              "      <td>None</td>\n",
              "      <td>None</td>\n",
              "      <td>None</td>\n",
              "      <td>None</td>\n",
              "      <td>None</td>\n",
              "      <td>None</td>\n",
              "    </tr>\n",
              "  </tbody>\n",
              "</table>\n",
              "</div>"
            ],
            "text/plain": [
              "    age workclass fnlwgt  ... hours-per-week native-country salary\n",
              "0  None      None   None  ...           None           None   None\n",
              "1  None      None   None  ...           None           None   None\n",
              "2  None      None   None  ...           None           None   None\n",
              "3  None      None   None  ...           None           None   None\n",
              "4  None      None   None  ...           None           None   None\n",
              "\n",
              "[5 rows x 15 columns]"
            ]
          },
          "metadata": {
            "tags": []
          },
          "execution_count": 24
        }
      ]
    },
    {
      "cell_type": "markdown",
      "metadata": {
        "id": "UkgddKAFuQsd",
        "colab_type": "text"
      },
      "source": [
        "#### We can see our data was not read correctly... let's investigate"
      ]
    },
    {
      "cell_type": "code",
      "metadata": {
        "ExecuteTime": {
          "end_time": "2020-07-06T15:11:08.102436Z",
          "start_time": "2020-07-06T15:11:08.092430Z"
        },
        "id": "1NTIc8tPuQsf",
        "colab_type": "code",
        "colab": {
          "base_uri": "https://localhost:8080/",
          "height": 319
        },
        "outputId": "8c2cf1fd-49bb-48a3-a26e-9f90e46b257d"
      },
      "source": [
        "train_df = spark.read \\\n",
        "  .option(\"delimiter\",\",\") \\\n",
        "  .option(\"inferSchema\",\"true\") \\\n",
        "  .csv('/content/drive/My Drive/data/adult.data.txt', header=False)\n",
        "train_df.printSchema()"
      ],
      "execution_count": 26,
      "outputs": [
        {
          "output_type": "stream",
          "text": [
            "root\n",
            " |-- _c0: integer (nullable = true)\n",
            " |-- _c1: string (nullable = true)\n",
            " |-- _c2: double (nullable = true)\n",
            " |-- _c3: string (nullable = true)\n",
            " |-- _c4: double (nullable = true)\n",
            " |-- _c5: string (nullable = true)\n",
            " |-- _c6: string (nullable = true)\n",
            " |-- _c7: string (nullable = true)\n",
            " |-- _c8: string (nullable = true)\n",
            " |-- _c9: string (nullable = true)\n",
            " |-- _c10: double (nullable = true)\n",
            " |-- _c11: double (nullable = true)\n",
            " |-- _c12: double (nullable = true)\n",
            " |-- _c13: string (nullable = true)\n",
            " |-- _c14: string (nullable = true)\n",
            "\n"
          ],
          "name": "stdout"
        }
      ]
    },
    {
      "cell_type": "markdown",
      "metadata": {
        "id": "qk_KWV6AuQsm",
        "colab_type": "text"
      },
      "source": [
        "##### Instead of integer, spark 'infer' chose doubles. Let's find out why\n"
      ]
    },
    {
      "cell_type": "code",
      "metadata": {
        "ExecuteTime": {
          "end_time": "2020-07-06T15:11:08.218123Z",
          "start_time": "2020-07-06T15:11:08.208132Z"
        },
        "id": "R7WzGSWpuQsn",
        "colab_type": "code",
        "colab": {
          "base_uri": "https://localhost:8080/",
          "height": 55
        },
        "outputId": "08fc8ffe-8817-48d8-e1ea-d4e6f8d43237"
      },
      "source": [
        "train_df.take(1)"
      ],
      "execution_count": 27,
      "outputs": [
        {
          "output_type": "execute_result",
          "data": {
            "text/plain": [
              "[Row(_c0=39, _c1=' State-gov', _c2=77516.0, _c3=' Bachelors', _c4=13.0, _c5=' Never-married', _c6=' Adm-clerical', _c7=' Not-in-family', _c8=' White', _c9=' Male', _c10=2174.0, _c11=0.0, _c12=40.0, _c13=' United-States', _c14=' <=50K')]"
            ]
          },
          "metadata": {
            "tags": []
          },
          "execution_count": 27
        }
      ]
    },
    {
      "cell_type": "markdown",
      "metadata": {
        "id": "dNXkMEuEuQsu",
        "colab_type": "text"
      },
      "source": [
        "#### Turns out Sparks IntegerType cannot parse strings with leading blanks; at least in the version I am running.\n",
        "We need to modify our ingestion method to correct for it. \n",
        "We could: \n",
        "    - ingest as double and convert to int\n",
        "    - ingest as string, trim and convert to int\n",
        "    \n",
        "I will select the second approach\n"
      ]
    },
    {
      "cell_type": "code",
      "metadata": {
        "ExecuteTime": {
          "end_time": "2020-07-06T15:11:08.352765Z",
          "start_time": "2020-07-06T15:11:08.329795Z"
        },
        "id": "IU0OQpN5uQsw",
        "colab_type": "code",
        "colab": {
          "base_uri": "https://localhost:8080/",
          "height": 278
        },
        "outputId": "5082b2c6-f047-463f-c6fb-b0589b97aa9f"
      },
      "source": [
        "# seems IntegerType cannot handle leading spaces; let's try to trim first\n",
        "from pyspark.sql.functions import ltrim, rtrim, col\n",
        "\n",
        "# trim function, spark.sql compatible and registered\n",
        "def trim(x):\n",
        "  return ltrim(rtrim(x))\n",
        "spark.udf.register(\"trim\", trim, StringType())\n",
        "\n",
        "newSchema = StructType([\n",
        "    StructField(\"age\", StringType(), True),\n",
        "    StructField(\"workclass\", StringType(), True),\n",
        "    StructField(\"fnlwgt\", StringType(), True),\n",
        "    StructField(\"education\", StringType(), True),\n",
        "    StructField(\"education-num\", StringType(), True),\n",
        "    StructField(\"marital-status\", StringType(), True),\n",
        "    StructField(\"occupation\", StringType(), True),\n",
        "    StructField(\"relationship\", StringType(), True),\n",
        "    StructField(\"race\", StringType(), True),\n",
        "    StructField(\"sex\", StringType(), True),\n",
        "    StructField(\"capital-gain\", StringType(), True),\n",
        "    StructField(\"capital-loss\", StringType(), True),\n",
        "    StructField(\"hours-per-week\", StringType(), True),\n",
        "    StructField(\"native-country\", StringType(), True),\n",
        "    StructField(\"salary\", StringType(), True)\n",
        "])\n",
        "\n",
        "\n",
        "# load our data \n",
        "train_df = spark.read.csv('/content/drive/My Drive/data/adult.data.txt', header=False, schema=newSchema) \n",
        "\n",
        "# trim all whitespace from all columns\n",
        "for c in train_df.columns:\n",
        "    train_df = train_df.withColumn(c, trim(col(c)))\n",
        "\n",
        "# convert to integers\n",
        "train_df = train_df \\\n",
        "    .withColumn(\"age\",trim(col(\"age\")).cast(IntegerType())) \\\n",
        "    .withColumn(\"fnlwgt\",trim(col(\"fnlwgt\")).cast(IntegerType())) \\\n",
        "    .withColumn(\"education-num\",trim(col(\"education-num\")).cast(IntegerType())) \\\n",
        "    .withColumn(\"capital-gain\",trim(col(\"capital-gain\")).cast(IntegerType())) \\\n",
        "    .withColumn(\"capital-loss\",trim(col(\"capital-loss\")).cast(IntegerType())) \\\n",
        "    .withColumn(\"hours-per-week\",trim(col(\"hours-per-week\")).cast(IntegerType())) \n",
        "\n",
        "train_df.limit(5).toPandas()\n",
        "\n"
      ],
      "execution_count": 33,
      "outputs": [
        {
          "output_type": "execute_result",
          "data": {
            "text/html": [
              "<div>\n",
              "<style scoped>\n",
              "    .dataframe tbody tr th:only-of-type {\n",
              "        vertical-align: middle;\n",
              "    }\n",
              "\n",
              "    .dataframe tbody tr th {\n",
              "        vertical-align: top;\n",
              "    }\n",
              "\n",
              "    .dataframe thead th {\n",
              "        text-align: right;\n",
              "    }\n",
              "</style>\n",
              "<table border=\"1\" class=\"dataframe\">\n",
              "  <thead>\n",
              "    <tr style=\"text-align: right;\">\n",
              "      <th></th>\n",
              "      <th>age</th>\n",
              "      <th>workclass</th>\n",
              "      <th>fnlwgt</th>\n",
              "      <th>education</th>\n",
              "      <th>education-num</th>\n",
              "      <th>marital-status</th>\n",
              "      <th>occupation</th>\n",
              "      <th>relationship</th>\n",
              "      <th>race</th>\n",
              "      <th>sex</th>\n",
              "      <th>capital-gain</th>\n",
              "      <th>capital-loss</th>\n",
              "      <th>hours-per-week</th>\n",
              "      <th>native-country</th>\n",
              "      <th>salary</th>\n",
              "    </tr>\n",
              "  </thead>\n",
              "  <tbody>\n",
              "    <tr>\n",
              "      <th>0</th>\n",
              "      <td>39</td>\n",
              "      <td>State-gov</td>\n",
              "      <td>77516</td>\n",
              "      <td>Bachelors</td>\n",
              "      <td>13</td>\n",
              "      <td>Never-married</td>\n",
              "      <td>Adm-clerical</td>\n",
              "      <td>Not-in-family</td>\n",
              "      <td>White</td>\n",
              "      <td>Male</td>\n",
              "      <td>2174</td>\n",
              "      <td>0</td>\n",
              "      <td>40</td>\n",
              "      <td>United-States</td>\n",
              "      <td>&lt;=50K</td>\n",
              "    </tr>\n",
              "    <tr>\n",
              "      <th>1</th>\n",
              "      <td>50</td>\n",
              "      <td>Self-emp-not-inc</td>\n",
              "      <td>83311</td>\n",
              "      <td>Bachelors</td>\n",
              "      <td>13</td>\n",
              "      <td>Married-civ-spouse</td>\n",
              "      <td>Exec-managerial</td>\n",
              "      <td>Husband</td>\n",
              "      <td>White</td>\n",
              "      <td>Male</td>\n",
              "      <td>0</td>\n",
              "      <td>0</td>\n",
              "      <td>13</td>\n",
              "      <td>United-States</td>\n",
              "      <td>&lt;=50K</td>\n",
              "    </tr>\n",
              "    <tr>\n",
              "      <th>2</th>\n",
              "      <td>38</td>\n",
              "      <td>Private</td>\n",
              "      <td>215646</td>\n",
              "      <td>HS-grad</td>\n",
              "      <td>9</td>\n",
              "      <td>Divorced</td>\n",
              "      <td>Handlers-cleaners</td>\n",
              "      <td>Not-in-family</td>\n",
              "      <td>White</td>\n",
              "      <td>Male</td>\n",
              "      <td>0</td>\n",
              "      <td>0</td>\n",
              "      <td>40</td>\n",
              "      <td>United-States</td>\n",
              "      <td>&lt;=50K</td>\n",
              "    </tr>\n",
              "    <tr>\n",
              "      <th>3</th>\n",
              "      <td>53</td>\n",
              "      <td>Private</td>\n",
              "      <td>234721</td>\n",
              "      <td>11th</td>\n",
              "      <td>7</td>\n",
              "      <td>Married-civ-spouse</td>\n",
              "      <td>Handlers-cleaners</td>\n",
              "      <td>Husband</td>\n",
              "      <td>Black</td>\n",
              "      <td>Male</td>\n",
              "      <td>0</td>\n",
              "      <td>0</td>\n",
              "      <td>40</td>\n",
              "      <td>United-States</td>\n",
              "      <td>&lt;=50K</td>\n",
              "    </tr>\n",
              "    <tr>\n",
              "      <th>4</th>\n",
              "      <td>28</td>\n",
              "      <td>Private</td>\n",
              "      <td>338409</td>\n",
              "      <td>Bachelors</td>\n",
              "      <td>13</td>\n",
              "      <td>Married-civ-spouse</td>\n",
              "      <td>Prof-specialty</td>\n",
              "      <td>Wife</td>\n",
              "      <td>Black</td>\n",
              "      <td>Female</td>\n",
              "      <td>0</td>\n",
              "      <td>0</td>\n",
              "      <td>40</td>\n",
              "      <td>Cuba</td>\n",
              "      <td>&lt;=50K</td>\n",
              "    </tr>\n",
              "  </tbody>\n",
              "</table>\n",
              "</div>"
            ],
            "text/plain": [
              "   age         workclass  fnlwgt  ... hours-per-week  native-country salary\n",
              "0   39         State-gov   77516  ...             40   United-States  <=50K\n",
              "1   50  Self-emp-not-inc   83311  ...             13   United-States  <=50K\n",
              "2   38           Private  215646  ...             40   United-States  <=50K\n",
              "3   53           Private  234721  ...             40   United-States  <=50K\n",
              "4   28           Private  338409  ...             40            Cuba  <=50K\n",
              "\n",
              "[5 rows x 15 columns]"
            ]
          },
          "metadata": {
            "tags": []
          },
          "execution_count": 33
        }
      ]
    },
    {
      "cell_type": "markdown",
      "metadata": {
        "id": "ODOK0a3IuQs1",
        "colab_type": "text"
      },
      "source": [
        "#### Let's inspect our test set"
      ]
    },
    {
      "cell_type": "code",
      "metadata": {
        "ExecuteTime": {
          "end_time": "2020-07-06T15:11:08.451509Z",
          "start_time": "2020-07-06T15:11:08.440540Z"
        },
        "id": "9Tfwv4GEuQs2",
        "colab_type": "code",
        "colab": {
          "base_uri": "https://localhost:8080/",
          "height": 278
        },
        "outputId": "09fb708c-a1ab-42b5-dfad-fa0a45f5f6c7"
      },
      "source": [
        "# load our test data again and inspect \n",
        "test_df = spark.read.csv('/content/drive/My Drive/data/adult.data.txt', header=False, schema=newSchema) \n",
        "test_df.limit(5).toPandas()"
      ],
      "execution_count": 34,
      "outputs": [
        {
          "output_type": "execute_result",
          "data": {
            "text/html": [
              "<div>\n",
              "<style scoped>\n",
              "    .dataframe tbody tr th:only-of-type {\n",
              "        vertical-align: middle;\n",
              "    }\n",
              "\n",
              "    .dataframe tbody tr th {\n",
              "        vertical-align: top;\n",
              "    }\n",
              "\n",
              "    .dataframe thead th {\n",
              "        text-align: right;\n",
              "    }\n",
              "</style>\n",
              "<table border=\"1\" class=\"dataframe\">\n",
              "  <thead>\n",
              "    <tr style=\"text-align: right;\">\n",
              "      <th></th>\n",
              "      <th>age</th>\n",
              "      <th>workclass</th>\n",
              "      <th>fnlwgt</th>\n",
              "      <th>education</th>\n",
              "      <th>education-num</th>\n",
              "      <th>marital-status</th>\n",
              "      <th>occupation</th>\n",
              "      <th>relationship</th>\n",
              "      <th>race</th>\n",
              "      <th>sex</th>\n",
              "      <th>capital-gain</th>\n",
              "      <th>capital-loss</th>\n",
              "      <th>hours-per-week</th>\n",
              "      <th>native-country</th>\n",
              "      <th>salary</th>\n",
              "    </tr>\n",
              "  </thead>\n",
              "  <tbody>\n",
              "    <tr>\n",
              "      <th>0</th>\n",
              "      <td>39</td>\n",
              "      <td>State-gov</td>\n",
              "      <td>77516</td>\n",
              "      <td>Bachelors</td>\n",
              "      <td>13</td>\n",
              "      <td>Never-married</td>\n",
              "      <td>Adm-clerical</td>\n",
              "      <td>Not-in-family</td>\n",
              "      <td>White</td>\n",
              "      <td>Male</td>\n",
              "      <td>2174</td>\n",
              "      <td>0</td>\n",
              "      <td>40</td>\n",
              "      <td>United-States</td>\n",
              "      <td>&lt;=50K</td>\n",
              "    </tr>\n",
              "    <tr>\n",
              "      <th>1</th>\n",
              "      <td>50</td>\n",
              "      <td>Self-emp-not-inc</td>\n",
              "      <td>83311</td>\n",
              "      <td>Bachelors</td>\n",
              "      <td>13</td>\n",
              "      <td>Married-civ-spouse</td>\n",
              "      <td>Exec-managerial</td>\n",
              "      <td>Husband</td>\n",
              "      <td>White</td>\n",
              "      <td>Male</td>\n",
              "      <td>0</td>\n",
              "      <td>0</td>\n",
              "      <td>13</td>\n",
              "      <td>United-States</td>\n",
              "      <td>&lt;=50K</td>\n",
              "    </tr>\n",
              "    <tr>\n",
              "      <th>2</th>\n",
              "      <td>38</td>\n",
              "      <td>Private</td>\n",
              "      <td>215646</td>\n",
              "      <td>HS-grad</td>\n",
              "      <td>9</td>\n",
              "      <td>Divorced</td>\n",
              "      <td>Handlers-cleaners</td>\n",
              "      <td>Not-in-family</td>\n",
              "      <td>White</td>\n",
              "      <td>Male</td>\n",
              "      <td>0</td>\n",
              "      <td>0</td>\n",
              "      <td>40</td>\n",
              "      <td>United-States</td>\n",
              "      <td>&lt;=50K</td>\n",
              "    </tr>\n",
              "    <tr>\n",
              "      <th>3</th>\n",
              "      <td>53</td>\n",
              "      <td>Private</td>\n",
              "      <td>234721</td>\n",
              "      <td>11th</td>\n",
              "      <td>7</td>\n",
              "      <td>Married-civ-spouse</td>\n",
              "      <td>Handlers-cleaners</td>\n",
              "      <td>Husband</td>\n",
              "      <td>Black</td>\n",
              "      <td>Male</td>\n",
              "      <td>0</td>\n",
              "      <td>0</td>\n",
              "      <td>40</td>\n",
              "      <td>United-States</td>\n",
              "      <td>&lt;=50K</td>\n",
              "    </tr>\n",
              "    <tr>\n",
              "      <th>4</th>\n",
              "      <td>28</td>\n",
              "      <td>Private</td>\n",
              "      <td>338409</td>\n",
              "      <td>Bachelors</td>\n",
              "      <td>13</td>\n",
              "      <td>Married-civ-spouse</td>\n",
              "      <td>Prof-specialty</td>\n",
              "      <td>Wife</td>\n",
              "      <td>Black</td>\n",
              "      <td>Female</td>\n",
              "      <td>0</td>\n",
              "      <td>0</td>\n",
              "      <td>40</td>\n",
              "      <td>Cuba</td>\n",
              "      <td>&lt;=50K</td>\n",
              "    </tr>\n",
              "  </tbody>\n",
              "</table>\n",
              "</div>"
            ],
            "text/plain": [
              "  age          workclass   fnlwgt  ... hours-per-week  native-country  salary\n",
              "0  39          State-gov    77516  ...             40   United-States   <=50K\n",
              "1  50   Self-emp-not-inc    83311  ...             13   United-States   <=50K\n",
              "2  38            Private   215646  ...             40   United-States   <=50K\n",
              "3  53            Private   234721  ...             40   United-States   <=50K\n",
              "4  28            Private   338409  ...             40            Cuba   <=50K\n",
              "\n",
              "[5 rows x 15 columns]"
            ]
          },
          "metadata": {
            "tags": []
          },
          "execution_count": 34
        }
      ]
    },
    {
      "cell_type": "markdown",
      "metadata": {
        "id": "5WcdoSt3uQs7",
        "colab_type": "text"
      },
      "source": [
        "#### Our test dataset is `dirty`.\n",
        "The first line has some strange line. So let's clean it. \n",
        "There is no easy way to do this in Spark, yet. \n"
      ]
    },
    {
      "cell_type": "code",
      "metadata": {
        "ExecuteTime": {
          "end_time": "2020-07-06T15:11:08.453467Z",
          "start_time": "2020-07-06T15:11:08.438Z"
        },
        "id": "bSK9pxbEuQs8",
        "colab_type": "code",
        "colab": {
          "base_uri": "https://localhost:8080/",
          "height": 295
        },
        "outputId": "7ccc7301-2d91-4e59-cfb0-64c676496f37"
      },
      "source": [
        "# load and ignore the first line\n",
        "\n",
        "# 1. convert to RDD\n",
        "# 2. add an index column (this converts the row to a tuple (index, Row); see the API documentation)\n",
        "# 3. filter the first row (index 0)\n",
        "# 4. convert back to a Row value\n",
        "# 5. convert to dataframe\n",
        "\n",
        "test_df = spark.read.csv('/content/drive/My Drive/data/adult.text.txt', header=False, schema=newSchema) \\\n",
        "    .rdd \\\n",
        "    .zipWithIndex() \\\n",
        "    .filter(lambda tuple: tuple[1]>0) \\\n",
        "    .map(lambda tuple: tuple[0]) \\\n",
        "    .toDF()\n",
        "\n",
        "test_df.limit(5).toPandas()\n",
        "\n"
      ],
      "execution_count": 31,
      "outputs": [
        {
          "output_type": "execute_result",
          "data": {
            "text/html": [
              "<div>\n",
              "<style scoped>\n",
              "    .dataframe tbody tr th:only-of-type {\n",
              "        vertical-align: middle;\n",
              "    }\n",
              "\n",
              "    .dataframe tbody tr th {\n",
              "        vertical-align: top;\n",
              "    }\n",
              "\n",
              "    .dataframe thead th {\n",
              "        text-align: right;\n",
              "    }\n",
              "</style>\n",
              "<table border=\"1\" class=\"dataframe\">\n",
              "  <thead>\n",
              "    <tr style=\"text-align: right;\">\n",
              "      <th></th>\n",
              "      <th>age</th>\n",
              "      <th>workclass</th>\n",
              "      <th>fnlwgt</th>\n",
              "      <th>education</th>\n",
              "      <th>education-num</th>\n",
              "      <th>marital-status</th>\n",
              "      <th>occupation</th>\n",
              "      <th>relationship</th>\n",
              "      <th>race</th>\n",
              "      <th>sex</th>\n",
              "      <th>capital-gain</th>\n",
              "      <th>capital-loss</th>\n",
              "      <th>hours-per-week</th>\n",
              "      <th>native-country</th>\n",
              "      <th>salary</th>\n",
              "    </tr>\n",
              "  </thead>\n",
              "  <tbody>\n",
              "    <tr>\n",
              "      <th>0</th>\n",
              "      <td>25</td>\n",
              "      <td>Private</td>\n",
              "      <td>226802</td>\n",
              "      <td>11th</td>\n",
              "      <td>7</td>\n",
              "      <td>Never-married</td>\n",
              "      <td>Machine-op-inspct</td>\n",
              "      <td>Own-child</td>\n",
              "      <td>Black</td>\n",
              "      <td>Male</td>\n",
              "      <td>0</td>\n",
              "      <td>0</td>\n",
              "      <td>40</td>\n",
              "      <td>United-States</td>\n",
              "      <td>&lt;=50K.</td>\n",
              "    </tr>\n",
              "    <tr>\n",
              "      <th>1</th>\n",
              "      <td>38</td>\n",
              "      <td>Private</td>\n",
              "      <td>89814</td>\n",
              "      <td>HS-grad</td>\n",
              "      <td>9</td>\n",
              "      <td>Married-civ-spouse</td>\n",
              "      <td>Farming-fishing</td>\n",
              "      <td>Husband</td>\n",
              "      <td>White</td>\n",
              "      <td>Male</td>\n",
              "      <td>0</td>\n",
              "      <td>0</td>\n",
              "      <td>50</td>\n",
              "      <td>United-States</td>\n",
              "      <td>&lt;=50K.</td>\n",
              "    </tr>\n",
              "    <tr>\n",
              "      <th>2</th>\n",
              "      <td>28</td>\n",
              "      <td>Local-gov</td>\n",
              "      <td>336951</td>\n",
              "      <td>Assoc-acdm</td>\n",
              "      <td>12</td>\n",
              "      <td>Married-civ-spouse</td>\n",
              "      <td>Protective-serv</td>\n",
              "      <td>Husband</td>\n",
              "      <td>White</td>\n",
              "      <td>Male</td>\n",
              "      <td>0</td>\n",
              "      <td>0</td>\n",
              "      <td>40</td>\n",
              "      <td>United-States</td>\n",
              "      <td>&gt;50K.</td>\n",
              "    </tr>\n",
              "    <tr>\n",
              "      <th>3</th>\n",
              "      <td>44</td>\n",
              "      <td>Private</td>\n",
              "      <td>160323</td>\n",
              "      <td>Some-college</td>\n",
              "      <td>10</td>\n",
              "      <td>Married-civ-spouse</td>\n",
              "      <td>Machine-op-inspct</td>\n",
              "      <td>Husband</td>\n",
              "      <td>Black</td>\n",
              "      <td>Male</td>\n",
              "      <td>7688</td>\n",
              "      <td>0</td>\n",
              "      <td>40</td>\n",
              "      <td>United-States</td>\n",
              "      <td>&gt;50K.</td>\n",
              "    </tr>\n",
              "    <tr>\n",
              "      <th>4</th>\n",
              "      <td>18</td>\n",
              "      <td>?</td>\n",
              "      <td>103497</td>\n",
              "      <td>Some-college</td>\n",
              "      <td>10</td>\n",
              "      <td>Never-married</td>\n",
              "      <td>?</td>\n",
              "      <td>Own-child</td>\n",
              "      <td>White</td>\n",
              "      <td>Female</td>\n",
              "      <td>0</td>\n",
              "      <td>0</td>\n",
              "      <td>30</td>\n",
              "      <td>United-States</td>\n",
              "      <td>&lt;=50K.</td>\n",
              "    </tr>\n",
              "  </tbody>\n",
              "</table>\n",
              "</div>"
            ],
            "text/plain": [
              "  age   workclass   fnlwgt  ... hours-per-week  native-country   salary\n",
              "0  25     Private   226802  ...             40   United-States   <=50K.\n",
              "1  38     Private    89814  ...             50   United-States   <=50K.\n",
              "2  28   Local-gov   336951  ...             40   United-States    >50K.\n",
              "3  44     Private   160323  ...             40   United-States    >50K.\n",
              "4  18           ?   103497  ...             30   United-States   <=50K.\n",
              "\n",
              "[5 rows x 15 columns]"
            ]
          },
          "metadata": {
            "tags": []
          },
          "execution_count": 31
        }
      ]
    },
    {
      "cell_type": "code",
      "metadata": {
        "ExecuteTime": {
          "end_time": "2020-07-06T15:11:08.454463Z",
          "start_time": "2020-07-06T15:11:08.441Z"
        },
        "id": "l1AHWyrTuQtC",
        "colab_type": "code",
        "colab": {}
      },
      "source": [
        "# fix the strings and integer columns \n",
        "\n",
        "# create a list of the columns we want to convert to Integer\n",
        "numericCols = ['age', 'fnlwgt', 'education-num', 'capital-gain', 'capital-loss', 'hours-per-week']\n",
        "\n",
        "for c in test_df.columns:\n",
        "    test_df = test_df.withColumn(c, trim(col(c)))\n",
        "    if c in numericCols:\n",
        "        test_df = test_df.withColumn(c, col(c).cast(IntegerType()))\n",
        "    \n"
      ],
      "execution_count": 35,
      "outputs": []
    },
    {
      "cell_type": "code",
      "metadata": {
        "ExecuteTime": {
          "end_time": "2020-07-06T15:11:08.456456Z",
          "start_time": "2020-07-06T15:11:08.446Z"
        },
        "id": "PasM6CkbuQtG",
        "colab_type": "code",
        "colab": {
          "base_uri": "https://localhost:8080/",
          "height": 278
        },
        "outputId": "6dea41c7-9fb2-43a7-dc13-5a7d731905f4"
      },
      "source": [
        "test_df.limit(5).toPandas()"
      ],
      "execution_count": 36,
      "outputs": [
        {
          "output_type": "execute_result",
          "data": {
            "text/html": [
              "<div>\n",
              "<style scoped>\n",
              "    .dataframe tbody tr th:only-of-type {\n",
              "        vertical-align: middle;\n",
              "    }\n",
              "\n",
              "    .dataframe tbody tr th {\n",
              "        vertical-align: top;\n",
              "    }\n",
              "\n",
              "    .dataframe thead th {\n",
              "        text-align: right;\n",
              "    }\n",
              "</style>\n",
              "<table border=\"1\" class=\"dataframe\">\n",
              "  <thead>\n",
              "    <tr style=\"text-align: right;\">\n",
              "      <th></th>\n",
              "      <th>age</th>\n",
              "      <th>workclass</th>\n",
              "      <th>fnlwgt</th>\n",
              "      <th>education</th>\n",
              "      <th>education-num</th>\n",
              "      <th>marital-status</th>\n",
              "      <th>occupation</th>\n",
              "      <th>relationship</th>\n",
              "      <th>race</th>\n",
              "      <th>sex</th>\n",
              "      <th>capital-gain</th>\n",
              "      <th>capital-loss</th>\n",
              "      <th>hours-per-week</th>\n",
              "      <th>native-country</th>\n",
              "      <th>salary</th>\n",
              "    </tr>\n",
              "  </thead>\n",
              "  <tbody>\n",
              "    <tr>\n",
              "      <th>0</th>\n",
              "      <td>39</td>\n",
              "      <td>State-gov</td>\n",
              "      <td>77516</td>\n",
              "      <td>Bachelors</td>\n",
              "      <td>13</td>\n",
              "      <td>Never-married</td>\n",
              "      <td>Adm-clerical</td>\n",
              "      <td>Not-in-family</td>\n",
              "      <td>White</td>\n",
              "      <td>Male</td>\n",
              "      <td>2174</td>\n",
              "      <td>0</td>\n",
              "      <td>40</td>\n",
              "      <td>United-States</td>\n",
              "      <td>&lt;=50K</td>\n",
              "    </tr>\n",
              "    <tr>\n",
              "      <th>1</th>\n",
              "      <td>50</td>\n",
              "      <td>Self-emp-not-inc</td>\n",
              "      <td>83311</td>\n",
              "      <td>Bachelors</td>\n",
              "      <td>13</td>\n",
              "      <td>Married-civ-spouse</td>\n",
              "      <td>Exec-managerial</td>\n",
              "      <td>Husband</td>\n",
              "      <td>White</td>\n",
              "      <td>Male</td>\n",
              "      <td>0</td>\n",
              "      <td>0</td>\n",
              "      <td>13</td>\n",
              "      <td>United-States</td>\n",
              "      <td>&lt;=50K</td>\n",
              "    </tr>\n",
              "    <tr>\n",
              "      <th>2</th>\n",
              "      <td>38</td>\n",
              "      <td>Private</td>\n",
              "      <td>215646</td>\n",
              "      <td>HS-grad</td>\n",
              "      <td>9</td>\n",
              "      <td>Divorced</td>\n",
              "      <td>Handlers-cleaners</td>\n",
              "      <td>Not-in-family</td>\n",
              "      <td>White</td>\n",
              "      <td>Male</td>\n",
              "      <td>0</td>\n",
              "      <td>0</td>\n",
              "      <td>40</td>\n",
              "      <td>United-States</td>\n",
              "      <td>&lt;=50K</td>\n",
              "    </tr>\n",
              "    <tr>\n",
              "      <th>3</th>\n",
              "      <td>53</td>\n",
              "      <td>Private</td>\n",
              "      <td>234721</td>\n",
              "      <td>11th</td>\n",
              "      <td>7</td>\n",
              "      <td>Married-civ-spouse</td>\n",
              "      <td>Handlers-cleaners</td>\n",
              "      <td>Husband</td>\n",
              "      <td>Black</td>\n",
              "      <td>Male</td>\n",
              "      <td>0</td>\n",
              "      <td>0</td>\n",
              "      <td>40</td>\n",
              "      <td>United-States</td>\n",
              "      <td>&lt;=50K</td>\n",
              "    </tr>\n",
              "    <tr>\n",
              "      <th>4</th>\n",
              "      <td>28</td>\n",
              "      <td>Private</td>\n",
              "      <td>338409</td>\n",
              "      <td>Bachelors</td>\n",
              "      <td>13</td>\n",
              "      <td>Married-civ-spouse</td>\n",
              "      <td>Prof-specialty</td>\n",
              "      <td>Wife</td>\n",
              "      <td>Black</td>\n",
              "      <td>Female</td>\n",
              "      <td>0</td>\n",
              "      <td>0</td>\n",
              "      <td>40</td>\n",
              "      <td>Cuba</td>\n",
              "      <td>&lt;=50K</td>\n",
              "    </tr>\n",
              "  </tbody>\n",
              "</table>\n",
              "</div>"
            ],
            "text/plain": [
              "   age         workclass  fnlwgt  ... hours-per-week  native-country salary\n",
              "0   39         State-gov   77516  ...             40   United-States  <=50K\n",
              "1   50  Self-emp-not-inc   83311  ...             13   United-States  <=50K\n",
              "2   38           Private  215646  ...             40   United-States  <=50K\n",
              "3   53           Private  234721  ...             40   United-States  <=50K\n",
              "4   28           Private  338409  ...             40            Cuba  <=50K\n",
              "\n",
              "[5 rows x 15 columns]"
            ]
          },
          "metadata": {
            "tags": []
          },
          "execution_count": 36
        }
      ]
    },
    {
      "cell_type": "markdown",
      "metadata": {
        "id": "7rr8l3HNuQtL",
        "colab_type": "text"
      },
      "source": [
        "### Finally, Actual ML ahead !!\n"
      ]
    },
    {
      "cell_type": "markdown",
      "metadata": {
        "id": "txLg8h85uQtM",
        "colab_type": "text"
      },
      "source": [
        "#### Let's convert string columns into numbers using StringIndexer and OneHotEncoder transformer, as discussed in class \n",
        "\n",
        "![image.png](attachment:image.png)"
      ]
    },
    {
      "cell_type": "markdown",
      "metadata": {
        "id": "xLU6NeGvuQtM",
        "colab_type": "text"
      },
      "source": [
        "### Create the transformer objects we will use\n",
        "\n",
        "#### CAREFUL - ALERT\n",
        "\n",
        "When creating a categorical feature from string values, we **must** use a consistent vocabulary.\n",
        "That means using the ***same*** vocabulary at all times: e.g. we create just one vocabulary using *StringIndexer* to use for all datasets. \n",
        "\n",
        "By creating a single string encoder list, we ensure a single mapping between strings and indices.\n",
        "In our code below, we pass the `handleInvalid=\"skip\"` option. See http://spark.apache.org/docs/latest/api/python/pyspark.ml.html?highlight=stringindexer#pyspark.ml.feature.StringIndexer.\n"
      ]
    },
    {
      "cell_type": "code",
      "metadata": {
        "ExecuteTime": {
          "end_time": "2020-07-06T15:11:08.715338Z",
          "start_time": "2020-07-06T15:11:08.654926Z"
        },
        "id": "O3jMYJfsuQtN",
        "colab_type": "code",
        "colab": {}
      },
      "source": [
        "\n",
        "# create a list of the coluns we want to index & hot-encode\n",
        "categorical_variables = ['workclass', 'education', 'marital-status', 'occupation', 'relationship', 'race', 'sex', 'native-country']\n",
        "\n",
        "# use indexers to encode unique strings as numbers; this var holds a list: one indexer/column\n",
        "indexers = [StringIndexer(inputCol=column, outputCol=column+\"-index\", handleInvalid=\"skip\") for column in categorical_variables]\n",
        "\n",
        "# create string encodings for trinaing data only\n",
        "stringsIndexers = [indexer.fit(train_df) for indexer in indexers]\n",
        "\n",
        "# one-hot encode the encoded strings to a vector representation\n",
        "stringsEncoder = OneHotEncoderEstimator(\n",
        "    inputCols=[indexer.getOutputCol() for indexer in indexers],\n",
        "    outputCols=[\"{0}-encoded\".format(indexer.getOutputCol()) for indexer in indexers]\n",
        ")\n",
        "\n",
        "# create a VectorAssemble transformer to encode the resulting string indices \n",
        "stringsAssembler = VectorAssembler(\n",
        "    inputCols=stringsEncoder.getOutputCols(),\n",
        "    outputCol=\"categorical-features\"\n",
        ")\n"
      ],
      "execution_count": 37,
      "outputs": []
    },
    {
      "cell_type": "markdown",
      "metadata": {
        "id": "juzcNGk7uQtU",
        "colab_type": "text"
      },
      "source": [
        "### vectorize all columns \n",
        "\n",
        "Note: we spent some effort in converting numeric columns to Integers. It is possible the learning algorithms would have preferred doubles.\n",
        "\n",
        "I personally like to control every possible setting in my environment. By doing the conversion earlier, I am guaranteeing the schema I want...\n"
      ]
    },
    {
      "cell_type": "code",
      "metadata": {
        "ExecuteTime": {
          "end_time": "2020-07-06T15:11:08.825045Z",
          "start_time": "2020-07-06T15:11:08.809087Z"
        },
        "id": "mCib6XNDuQtV",
        "colab_type": "code",
        "colab": {
          "base_uri": "https://localhost:8080/",
          "height": 35
        },
        "outputId": "5a7b116a-02ed-4738-966e-0b9aa3fb428e"
      },
      "source": [
        "# now add the numeric variables\n",
        "numeric_variables = ['age', 'fnlwgt', 'education-num', 'capital-gain', 'capital-loss', 'hours-per-week']\n",
        "\n",
        "numericsAssembler = VectorAssembler(\n",
        "    inputCols=['categorical-features', *numeric_variables],\n",
        "    outputCol='features'\n",
        ")\n",
        "\n",
        "# add all the transform steps to a **pipeline**\n",
        "#  NOTE: we use indexingModels as a step as we do not want re-create string indices based only on the \n",
        "#     strings we saw in training\n",
        "pipeline = Pipeline(stages=stringsIndexers + [stringsEncoder, stringsAssembler, numericsAssembler])\n",
        "\n",
        "# Apply the pipeline to our training dataset\n",
        "train_df1 = pipeline.fit(train_df).transform(train_df)\n",
        "\n",
        "train_df1.limit(5).toPandas()['features'][0]\n",
        "\n"
      ],
      "execution_count": 38,
      "outputs": [
        {
          "output_type": "execute_result",
          "data": {
            "text/plain": [
              "SparseVector(100, {4: 1.0, 10: 1.0, 24: 1.0, 32: 1.0, 44: 1.0, 48: 1.0, 52: 1.0, 53: 1.0, 94: 39.0, 95: 77516.0, 96: 13.0, 97: 2174.0, 99: 40.0})"
            ]
          },
          "metadata": {
            "tags": []
          },
          "execution_count": 38
        }
      ]
    },
    {
      "cell_type": "markdown",
      "metadata": {
        "id": "DYxF2xb5uQta",
        "colab_type": "text"
      },
      "source": [
        "### Select the `label` column\n",
        "We want to learn `salary`\n"
      ]
    },
    {
      "cell_type": "code",
      "metadata": {
        "ExecuteTime": {
          "end_time": "2020-07-06T15:11:08.826044Z",
          "start_time": "2020-07-06T15:11:08.806Z"
        },
        "id": "6hh5vzmMuQtb",
        "colab_type": "code",
        "colab": {
          "base_uri": "https://localhost:8080/",
          "height": 212
        },
        "outputId": "bd4da861-8830-4660-8abf-eceaaf864580"
      },
      "source": [
        "labelIndexer = StringIndexer(inputCol='salary', outputCol='label', handleInvalid=\"skip\")\n",
        "\n",
        "train_df2 = labelIndexer.fit(train_df1).transform(train_df1)\n",
        "train_df2.limit(10).toPandas()['label']\n"
      ],
      "execution_count": 39,
      "outputs": [
        {
          "output_type": "execute_result",
          "data": {
            "text/plain": [
              "0    0.0\n",
              "1    0.0\n",
              "2    0.0\n",
              "3    0.0\n",
              "4    0.0\n",
              "5    0.0\n",
              "6    0.0\n",
              "7    1.0\n",
              "8    1.0\n",
              "9    1.0\n",
              "Name: label, dtype: float64"
            ]
          },
          "metadata": {
            "tags": []
          },
          "execution_count": 39
        }
      ]
    },
    {
      "cell_type": "markdown",
      "metadata": {
        "id": "HFt1U7yyuQti",
        "colab_type": "text"
      },
      "source": [
        "### Build a model using Logistic Regression\n"
      ]
    },
    {
      "cell_type": "code",
      "metadata": {
        "ExecuteTime": {
          "end_time": "2020-07-06T15:11:08.944727Z",
          "start_time": "2020-07-06T15:11:08.921785Z"
        },
        "id": "6L-adnvquQtj",
        "colab_type": "code",
        "colab": {}
      },
      "source": [
        "lr = LogisticRegression(featuresCol='features', labelCol='label')\n",
        "model = lr.fit(train_df2)"
      ],
      "execution_count": 40,
      "outputs": []
    },
    {
      "cell_type": "markdown",
      "metadata": {
        "id": "dlFCQdq6uQto",
        "colab_type": "text"
      },
      "source": [
        "### Summary of the Model\n",
        "Spark has a poor summary function for data and model...\n"
      ]
    },
    {
      "cell_type": "code",
      "metadata": {
        "ExecuteTime": {
          "end_time": "2020-07-06T15:11:09.046455Z",
          "start_time": "2020-07-06T15:11:09.036479Z"
        },
        "id": "k7b-3NsLuQto",
        "colab_type": "code",
        "colab": {
          "base_uri": "https://localhost:8080/",
          "height": 734
        },
        "outputId": "e456a02b-b9b9-4d50-d0a2-f79f59cd363d"
      },
      "source": [
        "from pyspark.sql.functions import avg\n",
        "\n",
        "trainingSummary = model.summary\n",
        "print(\"Accuracy: \", trainingSummary.accuracy)\n",
        "print(\"Area under ROC: \", trainingSummary.areaUnderROC)\n",
        "\n",
        "# Print the coefficients and intercepts for logistic regression with multinomial family\n",
        "print(\"Multinomial coefficients: \" + str(model.coefficientMatrix))\n",
        "print(\"Multinomial intercepts: \" + str(model.interceptVector))\n",
        "\n",
        "\n",
        "# average precision/recall curve\n",
        "trainingSummary.pr.select(avg(\"recall\"),avg(\"precision\")).limit(1).toPandas()\n"
      ],
      "execution_count": 41,
      "outputs": [
        {
          "output_type": "stream",
          "text": [
            "Accuracy:  0.8532600350112097\n",
            "Area under ROC:  0.9086742514762464\n",
            "Multinomial coefficients: DenseMatrix([[-1.45563658e+00, -1.94342930e+00, -1.63628895e+00,\n",
            "              -7.69412473e-01, -1.77233682e+00, -1.27788135e+00,\n",
            "              -9.62737643e-01, -9.41003654e+00,  3.93642261e-01,\n",
            "               4.38932678e-01,  3.17003597e-01,  3.74099211e-01,\n",
            "               3.35474269e-01,  2.68738135e-01,  1.60594042e-02,\n",
            "               4.81655233e-01,  6.08510531e-01,  5.77915339e-01,\n",
            "               5.88780642e-01,  3.58128419e-01,  4.83256829e-01,\n",
            "               1.13939557e+00,  1.14715374e+00, -5.93342409e-01,\n",
            "              -3.29914313e+00, -2.81401798e+00, -2.94750778e+00,\n",
            "              -2.67141784e+00, -2.82479023e+00, -7.83977102e-02,\n",
            "              -5.22659083e-01,  1.95176332e-01, -5.86216396e-01,\n",
            "              -3.11939855e-01, -1.41451916e+00, -8.74921363e-01,\n",
            "              -1.98333370e+00, -7.05161008e-01, -1.27921985e+00,\n",
            "              -1.59331152e+00,  6.28178740e-02, -1.98778255e-02,\n",
            "              -6.33658391e+00,  3.78009876e-01,  9.64494322e-01,\n",
            "              -2.48603581e-01,  8.37724152e-01,  1.73331509e+00,\n",
            "               3.31726767e-01,  1.53228479e-01,  4.16134631e-01,\n",
            "              -2.50672099e-01,  8.66414577e-01, -3.58136970e+00,\n",
            "              -4.36646010e+00, -3.96777756e+00, -3.33778570e+00,\n",
            "              -3.34046863e+00, -3.44085525e+00, -4.13735862e+00,\n",
            "              -4.38378921e+00, -4.15294047e+00, -3.41492758e+00,\n",
            "              -3.46173258e+00, -3.74238591e+00, -4.82277383e+00,\n",
            "              -4.45955806e+00, -2.96649874e+00, -5.66528361e+00,\n",
            "              -4.89425260e+00, -4.03156403e+00, -3.35326449e+00,\n",
            "              -3.79060126e+00, -5.88370075e+00, -3.74381643e+00,\n",
            "              -3.83094109e+00, -3.72213744e+00, -3.83303622e+00,\n",
            "              -4.58575183e+00, -4.60812412e+00, -4.79894184e+00,\n",
            "              -3.18672021e+00, -4.08071951e+00, -3.29452408e+00,\n",
            "              -3.86153445e+00, -4.14003611e+00, -2.52102263e+00,\n",
            "              -4.29940227e+00, -4.43910681e+00, -3.09007836e+00,\n",
            "              -1.05555462e+01, -4.98832477e+00, -3.88498878e+00,\n",
            "              -3.77872124e+00,  2.52529118e-02,  6.87733691e-07,\n",
            "               2.98867767e-01,  3.15878200e-04,  6.45565240e-04,\n",
            "               2.94616289e-02]])\n",
            "Multinomial intercepts: [-1.9415454656395212]\n"
          ],
          "name": "stdout"
        },
        {
          "output_type": "execute_result",
          "data": {
            "text/html": [
              "<div>\n",
              "<style scoped>\n",
              "    .dataframe tbody tr th:only-of-type {\n",
              "        vertical-align: middle;\n",
              "    }\n",
              "\n",
              "    .dataframe tbody tr th {\n",
              "        vertical-align: top;\n",
              "    }\n",
              "\n",
              "    .dataframe thead th {\n",
              "        text-align: right;\n",
              "    }\n",
              "</style>\n",
              "<table border=\"1\" class=\"dataframe\">\n",
              "  <thead>\n",
              "    <tr style=\"text-align: right;\">\n",
              "      <th></th>\n",
              "      <th>avg(recall)</th>\n",
              "      <th>avg(precision)</th>\n",
              "    </tr>\n",
              "  </thead>\n",
              "  <tbody>\n",
              "    <tr>\n",
              "      <th>0</th>\n",
              "      <td>0.810092</td>\n",
              "      <td>0.512386</td>\n",
              "    </tr>\n",
              "  </tbody>\n",
              "</table>\n",
              "</div>"
            ],
            "text/plain": [
              "   avg(recall)  avg(precision)\n",
              "0     0.810092        0.512386"
            ]
          },
          "metadata": {
            "tags": []
          },
          "execution_count": 41
        }
      ]
    },
    {
      "cell_type": "markdown",
      "metadata": {
        "id": "sMV9mwItuQtu",
        "colab_type": "text"
      },
      "source": [
        "# Evaluate/Predict on our test set"
      ]
    },
    {
      "cell_type": "code",
      "metadata": {
        "ExecuteTime": {
          "end_time": "2020-07-06T15:11:09.048448Z",
          "start_time": "2020-07-06T15:11:09.034Z"
        },
        "id": "hj_54dXOuQtu",
        "colab_type": "code",
        "colab": {
          "base_uri": "https://localhost:8080/",
          "height": 35
        },
        "outputId": "5121ea54-a0d4-4997-834a-d4f28cbfe2d9"
      },
      "source": [
        "# prepare the test data using the same steps as the training data (see above)\n",
        "test_df1 = pipeline.fit(test_df).transform(test_df)\n",
        "test_df1.limit(5).toPandas()['features'][0]"
      ],
      "execution_count": 42,
      "outputs": [
        {
          "output_type": "execute_result",
          "data": {
            "text/plain": [
              "SparseVector(100, {4: 1.0, 10: 1.0, 24: 1.0, 32: 1.0, 44: 1.0, 48: 1.0, 52: 1.0, 53: 1.0, 94: 39.0, 95: 77516.0, 96: 13.0, 97: 2174.0, 99: 40.0})"
            ]
          },
          "metadata": {
            "tags": []
          },
          "execution_count": 42
        }
      ]
    },
    {
      "cell_type": "code",
      "metadata": {
        "ExecuteTime": {
          "end_time": "2020-07-06T15:11:09.049445Z",
          "start_time": "2020-07-06T15:11:09.038Z"
        },
        "id": "rWit6e0guQt0",
        "colab_type": "code",
        "colab": {
          "base_uri": "https://localhost:8080/",
          "height": 312
        },
        "outputId": "35bf32c0-6f85-4459-b0e3-f0d6d92b96fd"
      },
      "source": [
        "test_df1.limit(2).toPandas()"
      ],
      "execution_count": 43,
      "outputs": [
        {
          "output_type": "execute_result",
          "data": {
            "text/html": [
              "<div>\n",
              "<style scoped>\n",
              "    .dataframe tbody tr th:only-of-type {\n",
              "        vertical-align: middle;\n",
              "    }\n",
              "\n",
              "    .dataframe tbody tr th {\n",
              "        vertical-align: top;\n",
              "    }\n",
              "\n",
              "    .dataframe thead th {\n",
              "        text-align: right;\n",
              "    }\n",
              "</style>\n",
              "<table border=\"1\" class=\"dataframe\">\n",
              "  <thead>\n",
              "    <tr style=\"text-align: right;\">\n",
              "      <th></th>\n",
              "      <th>age</th>\n",
              "      <th>workclass</th>\n",
              "      <th>fnlwgt</th>\n",
              "      <th>education</th>\n",
              "      <th>education-num</th>\n",
              "      <th>marital-status</th>\n",
              "      <th>occupation</th>\n",
              "      <th>relationship</th>\n",
              "      <th>race</th>\n",
              "      <th>sex</th>\n",
              "      <th>capital-gain</th>\n",
              "      <th>capital-loss</th>\n",
              "      <th>hours-per-week</th>\n",
              "      <th>native-country</th>\n",
              "      <th>salary</th>\n",
              "      <th>workclass-index</th>\n",
              "      <th>education-index</th>\n",
              "      <th>marital-status-index</th>\n",
              "      <th>occupation-index</th>\n",
              "      <th>relationship-index</th>\n",
              "      <th>race-index</th>\n",
              "      <th>sex-index</th>\n",
              "      <th>native-country-index</th>\n",
              "      <th>workclass-index-encoded</th>\n",
              "      <th>occupation-index-encoded</th>\n",
              "      <th>marital-status-index-encoded</th>\n",
              "      <th>native-country-index-encoded</th>\n",
              "      <th>education-index-encoded</th>\n",
              "      <th>race-index-encoded</th>\n",
              "      <th>relationship-index-encoded</th>\n",
              "      <th>sex-index-encoded</th>\n",
              "      <th>categorical-features</th>\n",
              "      <th>features</th>\n",
              "    </tr>\n",
              "  </thead>\n",
              "  <tbody>\n",
              "    <tr>\n",
              "      <th>0</th>\n",
              "      <td>39</td>\n",
              "      <td>State-gov</td>\n",
              "      <td>77516</td>\n",
              "      <td>Bachelors</td>\n",
              "      <td>13</td>\n",
              "      <td>Never-married</td>\n",
              "      <td>Adm-clerical</td>\n",
              "      <td>Not-in-family</td>\n",
              "      <td>White</td>\n",
              "      <td>Male</td>\n",
              "      <td>2174</td>\n",
              "      <td>0</td>\n",
              "      <td>40</td>\n",
              "      <td>United-States</td>\n",
              "      <td>&lt;=50K</td>\n",
              "      <td>4.0</td>\n",
              "      <td>2.0</td>\n",
              "      <td>1.0</td>\n",
              "      <td>3.0</td>\n",
              "      <td>1.0</td>\n",
              "      <td>0.0</td>\n",
              "      <td>0.0</td>\n",
              "      <td>0.0</td>\n",
              "      <td>(0.0, 0.0, 0.0, 0.0, 1.0, 0.0, 0.0, 0.0)</td>\n",
              "      <td>(0.0, 0.0, 0.0, 1.0, 0.0, 0.0, 0.0, 0.0, 0.0, ...</td>\n",
              "      <td>(0.0, 1.0, 0.0, 0.0, 0.0, 0.0)</td>\n",
              "      <td>(1.0, 0.0, 0.0, 0.0, 0.0, 0.0, 0.0, 0.0, 0.0, ...</td>\n",
              "      <td>(0.0, 0.0, 1.0, 0.0, 0.0, 0.0, 0.0, 0.0, 0.0, ...</td>\n",
              "      <td>(1.0, 0.0, 0.0, 0.0)</td>\n",
              "      <td>(0.0, 1.0, 0.0, 0.0, 0.0)</td>\n",
              "      <td>(1.0)</td>\n",
              "      <td>(0.0, 0.0, 0.0, 0.0, 1.0, 0.0, 0.0, 0.0, 0.0, ...</td>\n",
              "      <td>(0.0, 0.0, 0.0, 0.0, 1.0, 0.0, 0.0, 0.0, 0.0, ...</td>\n",
              "    </tr>\n",
              "    <tr>\n",
              "      <th>1</th>\n",
              "      <td>50</td>\n",
              "      <td>Self-emp-not-inc</td>\n",
              "      <td>83311</td>\n",
              "      <td>Bachelors</td>\n",
              "      <td>13</td>\n",
              "      <td>Married-civ-spouse</td>\n",
              "      <td>Exec-managerial</td>\n",
              "      <td>Husband</td>\n",
              "      <td>White</td>\n",
              "      <td>Male</td>\n",
              "      <td>0</td>\n",
              "      <td>0</td>\n",
              "      <td>13</td>\n",
              "      <td>United-States</td>\n",
              "      <td>&lt;=50K</td>\n",
              "      <td>1.0</td>\n",
              "      <td>2.0</td>\n",
              "      <td>0.0</td>\n",
              "      <td>2.0</td>\n",
              "      <td>0.0</td>\n",
              "      <td>0.0</td>\n",
              "      <td>0.0</td>\n",
              "      <td>0.0</td>\n",
              "      <td>(0.0, 1.0, 0.0, 0.0, 0.0, 0.0, 0.0, 0.0)</td>\n",
              "      <td>(0.0, 0.0, 1.0, 0.0, 0.0, 0.0, 0.0, 0.0, 0.0, ...</td>\n",
              "      <td>(1.0, 0.0, 0.0, 0.0, 0.0, 0.0)</td>\n",
              "      <td>(1.0, 0.0, 0.0, 0.0, 0.0, 0.0, 0.0, 0.0, 0.0, ...</td>\n",
              "      <td>(0.0, 0.0, 1.0, 0.0, 0.0, 0.0, 0.0, 0.0, 0.0, ...</td>\n",
              "      <td>(1.0, 0.0, 0.0, 0.0)</td>\n",
              "      <td>(1.0, 0.0, 0.0, 0.0, 0.0)</td>\n",
              "      <td>(1.0)</td>\n",
              "      <td>(0.0, 1.0, 0.0, 0.0, 0.0, 0.0, 0.0, 0.0, 0.0, ...</td>\n",
              "      <td>(0.0, 1.0, 0.0, 0.0, 0.0, 0.0, 0.0, 0.0, 0.0, ...</td>\n",
              "    </tr>\n",
              "  </tbody>\n",
              "</table>\n",
              "</div>"
            ],
            "text/plain": [
              "   age  ...                                           features\n",
              "0   39  ...  (0.0, 0.0, 0.0, 0.0, 1.0, 0.0, 0.0, 0.0, 0.0, ...\n",
              "1   50  ...  (0.0, 1.0, 0.0, 0.0, 0.0, 0.0, 0.0, 0.0, 0.0, ...\n",
              "\n",
              "[2 rows x 33 columns]"
            ]
          },
          "metadata": {
            "tags": []
          },
          "execution_count": 43
        }
      ]
    },
    {
      "cell_type": "code",
      "metadata": {
        "ExecuteTime": {
          "end_time": "2020-07-06T15:11:09.051442Z",
          "start_time": "2020-07-06T15:11:09.042Z"
        },
        "id": "_pBhiyPPuQt4",
        "colab_type": "code",
        "colab": {
          "base_uri": "https://localhost:8080/",
          "height": 124
        },
        "outputId": "8cca6d18-d368-4a45-9a6e-d04dbf9f061f"
      },
      "source": [
        "# set the label column\n",
        "test_df1 = labelIndexer.fit(test_df1).transform(test_df1)\n",
        "test_df1.limit(5).toPandas()['label']\n"
      ],
      "execution_count": 44,
      "outputs": [
        {
          "output_type": "execute_result",
          "data": {
            "text/plain": [
              "0    0.0\n",
              "1    0.0\n",
              "2    0.0\n",
              "3    0.0\n",
              "4    0.0\n",
              "Name: label, dtype: float64"
            ]
          },
          "metadata": {
            "tags": []
          },
          "execution_count": 44
        }
      ]
    },
    {
      "cell_type": "markdown",
      "metadata": {
        "id": "K1Ss-d3IuQt7",
        "colab_type": "text"
      },
      "source": [
        "### Predict the labels"
      ]
    },
    {
      "cell_type": "code",
      "metadata": {
        "ExecuteTime": {
          "end_time": "2020-07-06T15:11:09.170428Z",
          "start_time": "2020-07-06T15:11:09.161452Z"
        },
        "id": "s6A9DEZsuQt8",
        "colab_type": "code",
        "colab": {}
      },
      "source": [
        "\n",
        "test_df1 = model.transform(test_df1)"
      ],
      "execution_count": 45,
      "outputs": []
    },
    {
      "cell_type": "code",
      "metadata": {
        "ExecuteTime": {
          "end_time": "2020-07-06T15:11:09.172423Z",
          "start_time": "2020-07-06T15:11:09.130Z"
        },
        "id": "0eLHgc-yuQuA",
        "colab_type": "code",
        "colab": {
          "base_uri": "https://localhost:8080/",
          "height": 124
        },
        "outputId": "aaccf107-012c-491c-ba35-4d55c4ed805d"
      },
      "source": [
        "test_df1.limit(5).toPandas()['prediction']"
      ],
      "execution_count": 46,
      "outputs": [
        {
          "output_type": "execute_result",
          "data": {
            "text/plain": [
              "0    0.0\n",
              "1    0.0\n",
              "2    0.0\n",
              "3    0.0\n",
              "4    1.0\n",
              "Name: prediction, dtype: float64"
            ]
          },
          "metadata": {
            "tags": []
          },
          "execution_count": 46
        }
      ]
    },
    {
      "cell_type": "code",
      "metadata": {
        "ExecuteTime": {
          "end_time": "2020-07-06T15:11:09.173420Z",
          "start_time": "2020-07-06T15:11:09.133Z"
        },
        "id": "1NhvNJeluQuD",
        "colab_type": "code",
        "colab": {
          "base_uri": "https://localhost:8080/",
          "height": 148
        },
        "outputId": "5f0eda0a-7017-4ebd-e234-2d13fb9d45e1"
      },
      "source": [
        "print(\"Training Summary\")\n",
        "print(\"\")\n",
        "print(\"Accuracy: \", model.summary.accuracy)\n",
        "print(\"Area under ROC: \", model.summary.areaUnderROC)\n",
        "\n",
        "# average precision/recall curve\n",
        "model.summary.pr.select(avg(\"recall\"),avg(\"precision\")).limit(1).toPandas()\n"
      ],
      "execution_count": 47,
      "outputs": [
        {
          "output_type": "stream",
          "text": [
            "Training Summary\n",
            "\n",
            "Accuracy:  0.8532600350112097\n",
            "Area under ROC:  0.9086742514762464\n"
          ],
          "name": "stdout"
        },
        {
          "output_type": "execute_result",
          "data": {
            "text/html": [
              "<div>\n",
              "<style scoped>\n",
              "    .dataframe tbody tr th:only-of-type {\n",
              "        vertical-align: middle;\n",
              "    }\n",
              "\n",
              "    .dataframe tbody tr th {\n",
              "        vertical-align: top;\n",
              "    }\n",
              "\n",
              "    .dataframe thead th {\n",
              "        text-align: right;\n",
              "    }\n",
              "</style>\n",
              "<table border=\"1\" class=\"dataframe\">\n",
              "  <thead>\n",
              "    <tr style=\"text-align: right;\">\n",
              "      <th></th>\n",
              "      <th>avg(recall)</th>\n",
              "      <th>avg(precision)</th>\n",
              "    </tr>\n",
              "  </thead>\n",
              "  <tbody>\n",
              "    <tr>\n",
              "      <th>0</th>\n",
              "      <td>0.810092</td>\n",
              "      <td>0.512386</td>\n",
              "    </tr>\n",
              "  </tbody>\n",
              "</table>\n",
              "</div>"
            ],
            "text/plain": [
              "   avg(recall)  avg(precision)\n",
              "0     0.810092        0.512386"
            ]
          },
          "metadata": {
            "tags": []
          },
          "execution_count": 47
        }
      ]
    },
    {
      "cell_type": "code",
      "metadata": {
        "ExecuteTime": {
          "end_time": "2020-07-06T15:11:09.175415Z",
          "start_time": "2020-07-06T15:11:09.136Z"
        },
        "id": "EqoPIXXuuQuH",
        "colab_type": "code",
        "colab": {}
      },
      "source": [
        "# Evaluate on Training and Test Set\n",
        "# adapted from from https://chih-ling-hsu.github.io/2018/09/17/spark-mllib\n",
        "\n",
        "from pyspark.ml.evaluation import BinaryClassificationEvaluator, MulticlassClassificationEvaluator\n",
        "\n",
        "def evaluate(predictionAndLabels):\n",
        "\n",
        "    log = {}\n",
        "\n",
        "    # Show Validation Score (AUROC)\n",
        "    evaluator = BinaryClassificationEvaluator(metricName='areaUnderROC')\n",
        "    log['AUROC'] = \"%f\" % evaluator.evaluate(predictionAndLabels)    \n",
        "    print(\"Area under ROC = {}\".format(log['AUROC']))\n",
        "\n",
        "    # Show Validation Score (AUPR)\n",
        "    evaluator = BinaryClassificationEvaluator(metricName='areaUnderPR')\n",
        "    log['AUPR'] = \"%f\" % evaluator.evaluate(predictionAndLabels)\n",
        "    print(\"Area under PR = {}\".format(log['AUPR']))\n",
        "\n",
        "    # Metrics\n",
        "    evaluator = MulticlassClassificationEvaluator()\n",
        "    \n",
        "    # Overall statistics\n",
        "    log['Accuracy'] = \"%s\" % evaluator.evaluate(test_df1, {evaluator.metricName: \"accuracy\"})\n",
        "    log['Precision'] = \"%s\" % evaluator.evaluate(test_df1, {evaluator.metricName: \"weightedPrecision\"})\n",
        "    log['Recall'] = \"%s\" % evaluator.evaluate(test_df1, {evaluator.metricName: \"weightedRecall\"})\n",
        "    log['F1 Measure'] = \"%s\" % evaluator.evaluate(test_df1, {evaluator.metricName: \"f1\"})\n",
        "    \n",
        "    print(\"[Overall]\\taccuracy = %s\\tprecision = %s | recall = %s | F1 Measure = %s\" % \\\n",
        "            (log['Accuracy'], log['Precision'], log['Recall'], log['F1 Measure']))\n",
        "\n",
        "    return log"
      ],
      "execution_count": 48,
      "outputs": []
    },
    {
      "cell_type": "markdown",
      "metadata": {
        "id": "sofy6hDouQuK",
        "colab_type": "text"
      },
      "source": [
        "### Quality measures, save to external file"
      ]
    },
    {
      "cell_type": "code",
      "metadata": {
        "ExecuteTime": {
          "end_time": "2020-07-06T15:11:09.285122Z",
          "start_time": "2020-07-06T15:11:09.273153Z"
        },
        "id": "4V8qMhJ-uQuK",
        "colab_type": "code",
        "colab": {
          "base_uri": "https://localhost:8080/",
          "height": 70
        },
        "outputId": "94c4e22f-4a20-4a8b-aa7a-90282a9867ed"
      },
      "source": [
        "import json\n",
        "\n",
        "log = evaluate(test_df1)\n",
        "with open('test.json', 'w') as f:\n",
        "    json.dump(log, f)\n",
        "    "
      ],
      "execution_count": 49,
      "outputs": [
        {
          "output_type": "stream",
          "text": [
            "Area under ROC = 0.908770\n",
            "Area under PR = 0.770974\n",
            "[Overall]\taccuracy = 0.8532600350112097\tprecision = 0.8470438966761418 | recall = 0.8532600350112097 | F1 Measure = 0.8480374135849396\n"
          ],
          "name": "stdout"
        }
      ]
    },
    {
      "cell_type": "code",
      "metadata": {
        "id": "9sM4EjDeuQuO",
        "colab_type": "code",
        "colab": {}
      },
      "source": [
        ""
      ],
      "execution_count": 49,
      "outputs": []
    }
  ]
}